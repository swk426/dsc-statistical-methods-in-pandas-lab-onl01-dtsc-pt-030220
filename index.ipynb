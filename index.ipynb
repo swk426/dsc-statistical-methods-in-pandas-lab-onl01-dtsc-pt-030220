{
 "cells": [
  {
   "cell_type": "markdown",
   "metadata": {},
   "source": [
    "# Statistical Methods in Pandas - Lab"
   ]
  },
  {
   "cell_type": "markdown",
   "metadata": {},
   "source": [
    "## Introduction\n",
    "\n",
    "In this lab you'll get some hands-on experience using some of the key summary statistics methods in Pandas."
   ]
  },
  {
   "cell_type": "markdown",
   "metadata": {},
   "source": [
    "## Objectives\n",
    "You will be able to:\n",
    "\n",
    "- Calculate summary statistics for a series and DataFrame \n",
    "- Use the `.apply()` or `.applymap()` methods to apply a function to a pandas series or DataFrame  \n",
    "\n",
    "\n",
    "## Getting Started\n",
    "\n",
    "For this lab, we'll be working with a dataset containing information on various lego datasets. You will find this dataset in the file `'lego_sets.csv'`.   \n",
    "\n",
    "In the cell below:\n",
    "\n",
    "- Import Pandas and set the standard alias of `pd`\n",
    "- Import the `'lego_sets.csv'` dataset \n",
    "- Display the first five rows of the DataFrame to get a feel for what we'll be working with"
   ]
  },
  {
   "cell_type": "code",
   "execution_count": 1,
   "metadata": {},
   "outputs": [
    {
     "data": {
      "text/html": [
       "<div>\n",
       "<style scoped>\n",
       "    .dataframe tbody tr th:only-of-type {\n",
       "        vertical-align: middle;\n",
       "    }\n",
       "\n",
       "    .dataframe tbody tr th {\n",
       "        vertical-align: top;\n",
       "    }\n",
       "\n",
       "    .dataframe thead th {\n",
       "        text-align: right;\n",
       "    }\n",
       "</style>\n",
       "<table border=\"1\" class=\"dataframe\">\n",
       "  <thead>\n",
       "    <tr style=\"text-align: right;\">\n",
       "      <th></th>\n",
       "      <th>ages</th>\n",
       "      <th>list_price</th>\n",
       "      <th>num_reviews</th>\n",
       "      <th>piece_count</th>\n",
       "      <th>play_star_rating</th>\n",
       "      <th>prod_desc</th>\n",
       "      <th>prod_id</th>\n",
       "      <th>prod_long_desc</th>\n",
       "      <th>review_difficulty</th>\n",
       "      <th>set_name</th>\n",
       "      <th>star_rating</th>\n",
       "      <th>theme_name</th>\n",
       "      <th>val_star_rating</th>\n",
       "      <th>country</th>\n",
       "    </tr>\n",
       "  </thead>\n",
       "  <tbody>\n",
       "    <tr>\n",
       "      <td>0</td>\n",
       "      <td>6-12</td>\n",
       "      <td>29.99</td>\n",
       "      <td>2.0</td>\n",
       "      <td>277.0</td>\n",
       "      <td>4.0</td>\n",
       "      <td>Catapult into action and take back the eggs fr...</td>\n",
       "      <td>75823.0</td>\n",
       "      <td>Use the staircase catapult to launch Red into ...</td>\n",
       "      <td>Average</td>\n",
       "      <td>Bird Island Egg Heist</td>\n",
       "      <td>4.5</td>\n",
       "      <td>Angry Birds™</td>\n",
       "      <td>4.0</td>\n",
       "      <td>US</td>\n",
       "    </tr>\n",
       "    <tr>\n",
       "      <td>1</td>\n",
       "      <td>6-12</td>\n",
       "      <td>19.99</td>\n",
       "      <td>2.0</td>\n",
       "      <td>168.0</td>\n",
       "      <td>4.0</td>\n",
       "      <td>Launch a flying attack and rescue the eggs fro...</td>\n",
       "      <td>75822.0</td>\n",
       "      <td>Pilot Pig has taken off from Bird Island with ...</td>\n",
       "      <td>Easy</td>\n",
       "      <td>Piggy Plane Attack</td>\n",
       "      <td>5.0</td>\n",
       "      <td>Angry Birds™</td>\n",
       "      <td>4.0</td>\n",
       "      <td>US</td>\n",
       "    </tr>\n",
       "    <tr>\n",
       "      <td>2</td>\n",
       "      <td>6-12</td>\n",
       "      <td>12.99</td>\n",
       "      <td>11.0</td>\n",
       "      <td>74.0</td>\n",
       "      <td>4.3</td>\n",
       "      <td>Chase the piggy with lightning-fast Chuck and ...</td>\n",
       "      <td>75821.0</td>\n",
       "      <td>Pitch speedy bird Chuck against the Piggy Car....</td>\n",
       "      <td>Easy</td>\n",
       "      <td>Piggy Car Escape</td>\n",
       "      <td>4.3</td>\n",
       "      <td>Angry Birds™</td>\n",
       "      <td>4.1</td>\n",
       "      <td>US</td>\n",
       "    </tr>\n",
       "    <tr>\n",
       "      <td>3</td>\n",
       "      <td>12+</td>\n",
       "      <td>99.99</td>\n",
       "      <td>23.0</td>\n",
       "      <td>1032.0</td>\n",
       "      <td>3.6</td>\n",
       "      <td>Explore the architecture of the United States ...</td>\n",
       "      <td>21030.0</td>\n",
       "      <td>Discover the architectural secrets of the icon...</td>\n",
       "      <td>Average</td>\n",
       "      <td>United States Capitol Building</td>\n",
       "      <td>4.6</td>\n",
       "      <td>Architecture</td>\n",
       "      <td>4.3</td>\n",
       "      <td>US</td>\n",
       "    </tr>\n",
       "    <tr>\n",
       "      <td>4</td>\n",
       "      <td>12+</td>\n",
       "      <td>79.99</td>\n",
       "      <td>14.0</td>\n",
       "      <td>744.0</td>\n",
       "      <td>3.2</td>\n",
       "      <td>Recreate the Solomon R. Guggenheim Museum® wit...</td>\n",
       "      <td>21035.0</td>\n",
       "      <td>Discover the architectural secrets of Frank Ll...</td>\n",
       "      <td>Challenging</td>\n",
       "      <td>Solomon R. Guggenheim Museum®</td>\n",
       "      <td>4.6</td>\n",
       "      <td>Architecture</td>\n",
       "      <td>4.1</td>\n",
       "      <td>US</td>\n",
       "    </tr>\n",
       "  </tbody>\n",
       "</table>\n",
       "</div>"
      ],
      "text/plain": [
       "   ages  list_price  num_reviews  piece_count  play_star_rating  \\\n",
       "0  6-12       29.99          2.0        277.0               4.0   \n",
       "1  6-12       19.99          2.0        168.0               4.0   \n",
       "2  6-12       12.99         11.0         74.0               4.3   \n",
       "3   12+       99.99         23.0       1032.0               3.6   \n",
       "4   12+       79.99         14.0        744.0               3.2   \n",
       "\n",
       "                                           prod_desc  prod_id  \\\n",
       "0  Catapult into action and take back the eggs fr...  75823.0   \n",
       "1  Launch a flying attack and rescue the eggs fro...  75822.0   \n",
       "2  Chase the piggy with lightning-fast Chuck and ...  75821.0   \n",
       "3  Explore the architecture of the United States ...  21030.0   \n",
       "4  Recreate the Solomon R. Guggenheim Museum® wit...  21035.0   \n",
       "\n",
       "                                      prod_long_desc review_difficulty  \\\n",
       "0  Use the staircase catapult to launch Red into ...           Average   \n",
       "1  Pilot Pig has taken off from Bird Island with ...              Easy   \n",
       "2  Pitch speedy bird Chuck against the Piggy Car....              Easy   \n",
       "3  Discover the architectural secrets of the icon...           Average   \n",
       "4  Discover the architectural secrets of Frank Ll...       Challenging   \n",
       "\n",
       "                         set_name  star_rating    theme_name  val_star_rating  \\\n",
       "0           Bird Island Egg Heist          4.5  Angry Birds™              4.0   \n",
       "1              Piggy Plane Attack          5.0  Angry Birds™              4.0   \n",
       "2                Piggy Car Escape          4.3  Angry Birds™              4.1   \n",
       "3  United States Capitol Building          4.6  Architecture              4.3   \n",
       "4   Solomon R. Guggenheim Museum®          4.6  Architecture              4.1   \n",
       "\n",
       "  country  \n",
       "0      US  \n",
       "1      US  \n",
       "2      US  \n",
       "3      US  \n",
       "4      US  "
      ]
     },
     "execution_count": 1,
     "metadata": {},
     "output_type": "execute_result"
    }
   ],
   "source": [
    "# Import pandas\n",
    "import pandas as pd\n",
    "\n",
    "# Import the 'lego_sets.csv' dataset\n",
    "df = pd.read_csv('lego_sets.csv')\n",
    "\n",
    "# Print the first five rows of DataFrame\n",
    "df.head()"
   ]
  },
  {
   "cell_type": "markdown",
   "metadata": {},
   "source": [
    "## Getting DataFrame-Level Statistics\n",
    "\n",
    "We'll begin by getting some overall summary statistics on the dataset. There are two ways we'll get this information -- `.info()` and `.describe()`.\n",
    "\n",
    "The `.info()` method provides us metadata on the DataFrame itself. This allows us to answer questions such as:\n",
    "\n",
    "* What data type does each column contain?\n",
    "* How many rows are in my dataset? \n",
    "* How many total non-missing values does each column contain?\n",
    "* How much memory does the DataFrame take up?\n",
    "\n",
    "In the cell below, call our DataFrame's `.info()` method. "
   ]
  },
  {
   "cell_type": "code",
   "execution_count": 2,
   "metadata": {},
   "outputs": [
    {
     "name": "stdout",
     "output_type": "stream",
     "text": [
      "<class 'pandas.core.frame.DataFrame'>\n",
      "RangeIndex: 12261 entries, 0 to 12260\n",
      "Data columns (total 14 columns):\n",
      "ages                 12261 non-null object\n",
      "list_price           12261 non-null float64\n",
      "num_reviews          10641 non-null float64\n",
      "piece_count          12261 non-null float64\n",
      "play_star_rating     10486 non-null float64\n",
      "prod_desc            11884 non-null object\n",
      "prod_id              12261 non-null float64\n",
      "prod_long_desc       12261 non-null object\n",
      "review_difficulty    10206 non-null object\n",
      "set_name             12261 non-null object\n",
      "star_rating          10641 non-null float64\n",
      "theme_name           12258 non-null object\n",
      "val_star_rating      10466 non-null float64\n",
      "country              12261 non-null object\n",
      "dtypes: float64(7), object(7)\n",
      "memory usage: 1.3+ MB\n"
     ]
    }
   ],
   "source": [
    "# Call the .info() method\n",
    "df.info()"
   ]
  },
  {
   "cell_type": "markdown",
   "metadata": {},
   "source": [
    "#### Interpreting the Results\n",
    "\n",
    "Read the output above, and then answer the following questions:\n",
    "\n",
    "- How many total rows are in this DataFrame?  \n",
    "- How many columns contain numeric data? \n",
    "- How many contain categorical data? \n",
    "- Identify at least 3 columns that contain missing values. \n",
    "\n",
    "Write your answer below this line:\n",
    "________________________________________________________________________________________________________________________________"
   ]
  },
  {
   "cell_type": "markdown",
   "metadata": {},
   "source": [
    "#Total rows in this Data Fram is 12261\n",
    "#7 columns contain numeric data\n",
    "#7 contain categorical data\n",
    "#columns containing missing values: num_reviews, play_star_rating, prod_desc, review_difficulty,\n",
    "#star_rating, val_star_rating"
   ]
  },
  {
   "cell_type": "markdown",
   "metadata": {},
   "source": [
    "Whereas `.info()` provides statistics about the DataFrame itself, `.describe()` returns output containing basic summary statistics about the data contained with the DataFrame.  \n",
    "\n",
    "In the cell below, call the DataFrame's `.describe()` method. "
   ]
  },
  {
   "cell_type": "code",
   "execution_count": 4,
   "metadata": {},
   "outputs": [
    {
     "data": {
      "text/html": [
       "<div>\n",
       "<style scoped>\n",
       "    .dataframe tbody tr th:only-of-type {\n",
       "        vertical-align: middle;\n",
       "    }\n",
       "\n",
       "    .dataframe tbody tr th {\n",
       "        vertical-align: top;\n",
       "    }\n",
       "\n",
       "    .dataframe thead th {\n",
       "        text-align: right;\n",
       "    }\n",
       "</style>\n",
       "<table border=\"1\" class=\"dataframe\">\n",
       "  <thead>\n",
       "    <tr style=\"text-align: right;\">\n",
       "      <th></th>\n",
       "      <th>list_price</th>\n",
       "      <th>num_reviews</th>\n",
       "      <th>piece_count</th>\n",
       "      <th>play_star_rating</th>\n",
       "      <th>prod_id</th>\n",
       "      <th>star_rating</th>\n",
       "      <th>val_star_rating</th>\n",
       "    </tr>\n",
       "  </thead>\n",
       "  <tbody>\n",
       "    <tr>\n",
       "      <td>count</td>\n",
       "      <td>12261.000000</td>\n",
       "      <td>10641.000000</td>\n",
       "      <td>12261.000000</td>\n",
       "      <td>10486.000000</td>\n",
       "      <td>1.226100e+04</td>\n",
       "      <td>10641.000000</td>\n",
       "      <td>10466.000000</td>\n",
       "    </tr>\n",
       "    <tr>\n",
       "      <td>mean</td>\n",
       "      <td>65.141998</td>\n",
       "      <td>16.826238</td>\n",
       "      <td>493.405921</td>\n",
       "      <td>4.337641</td>\n",
       "      <td>5.983675e+04</td>\n",
       "      <td>4.514134</td>\n",
       "      <td>4.228960</td>\n",
       "    </tr>\n",
       "    <tr>\n",
       "      <td>std</td>\n",
       "      <td>91.980429</td>\n",
       "      <td>36.368984</td>\n",
       "      <td>825.364580</td>\n",
       "      <td>0.652051</td>\n",
       "      <td>1.638115e+05</td>\n",
       "      <td>0.518865</td>\n",
       "      <td>0.660282</td>\n",
       "    </tr>\n",
       "    <tr>\n",
       "      <td>min</td>\n",
       "      <td>2.272400</td>\n",
       "      <td>1.000000</td>\n",
       "      <td>1.000000</td>\n",
       "      <td>1.000000</td>\n",
       "      <td>6.300000e+02</td>\n",
       "      <td>1.800000</td>\n",
       "      <td>1.000000</td>\n",
       "    </tr>\n",
       "    <tr>\n",
       "      <td>25%</td>\n",
       "      <td>19.990000</td>\n",
       "      <td>2.000000</td>\n",
       "      <td>97.000000</td>\n",
       "      <td>4.000000</td>\n",
       "      <td>2.103400e+04</td>\n",
       "      <td>4.300000</td>\n",
       "      <td>4.000000</td>\n",
       "    </tr>\n",
       "    <tr>\n",
       "      <td>50%</td>\n",
       "      <td>36.587800</td>\n",
       "      <td>6.000000</td>\n",
       "      <td>216.000000</td>\n",
       "      <td>4.500000</td>\n",
       "      <td>4.206900e+04</td>\n",
       "      <td>4.700000</td>\n",
       "      <td>4.300000</td>\n",
       "    </tr>\n",
       "    <tr>\n",
       "      <td>75%</td>\n",
       "      <td>70.192200</td>\n",
       "      <td>13.000000</td>\n",
       "      <td>544.000000</td>\n",
       "      <td>4.800000</td>\n",
       "      <td>7.092200e+04</td>\n",
       "      <td>5.000000</td>\n",
       "      <td>4.700000</td>\n",
       "    </tr>\n",
       "    <tr>\n",
       "      <td>max</td>\n",
       "      <td>1104.870000</td>\n",
       "      <td>367.000000</td>\n",
       "      <td>7541.000000</td>\n",
       "      <td>5.000000</td>\n",
       "      <td>2.000431e+06</td>\n",
       "      <td>5.000000</td>\n",
       "      <td>5.000000</td>\n",
       "    </tr>\n",
       "  </tbody>\n",
       "</table>\n",
       "</div>"
      ],
      "text/plain": [
       "         list_price   num_reviews   piece_count  play_star_rating  \\\n",
       "count  12261.000000  10641.000000  12261.000000      10486.000000   \n",
       "mean      65.141998     16.826238    493.405921          4.337641   \n",
       "std       91.980429     36.368984    825.364580          0.652051   \n",
       "min        2.272400      1.000000      1.000000          1.000000   \n",
       "25%       19.990000      2.000000     97.000000          4.000000   \n",
       "50%       36.587800      6.000000    216.000000          4.500000   \n",
       "75%       70.192200     13.000000    544.000000          4.800000   \n",
       "max     1104.870000    367.000000   7541.000000          5.000000   \n",
       "\n",
       "            prod_id   star_rating  val_star_rating  \n",
       "count  1.226100e+04  10641.000000     10466.000000  \n",
       "mean   5.983675e+04      4.514134         4.228960  \n",
       "std    1.638115e+05      0.518865         0.660282  \n",
       "min    6.300000e+02      1.800000         1.000000  \n",
       "25%    2.103400e+04      4.300000         4.000000  \n",
       "50%    4.206900e+04      4.700000         4.300000  \n",
       "75%    7.092200e+04      5.000000         4.700000  \n",
       "max    2.000431e+06      5.000000         5.000000  "
      ]
     },
     "execution_count": 4,
     "metadata": {},
     "output_type": "execute_result"
    }
   ],
   "source": [
    "# Call the .describe() method\n",
    "df.describe()"
   ]
  },
  {
   "cell_type": "code",
   "execution_count": 6,
   "metadata": {},
   "outputs": [
    {
     "data": {
      "text/plain": [
       "list_price             36.5878\n",
       "num_reviews             6.0000\n",
       "piece_count           216.0000\n",
       "play_star_rating        4.5000\n",
       "prod_id             42069.0000\n",
       "star_rating             4.7000\n",
       "val_star_rating         4.3000\n",
       "dtype: float64"
      ]
     },
     "execution_count": 6,
     "metadata": {},
     "output_type": "execute_result"
    }
   ],
   "source": [
    "df.median()"
   ]
  },
  {
   "cell_type": "markdown",
   "metadata": {},
   "source": [
    "#### Interpreting the Results\n",
    "\n",
    "The output contains descriptive statistics corresponding to the columns. Use these to answer the following questions:\n",
    "\n",
    "- How much is the standard deviation for `piece count`? \n",
    "- How many pieces are in the largest lego set?\n",
    "- How many in the smallest lego set? What is the median `val_star_rating`?\n",
    "\n",
    "________________________________________________________________________________________________________________________________"
   ]
  },
  {
   "cell_type": "markdown",
   "metadata": {},
   "source": [
    "#the standard deviation for piece_count 825.364580\n",
    "#the largest lego set has 7541 pieces\n",
    "#the smallest lego set is 1 piece\n",
    "#the median of val_star_rating 4.3"
   ]
  },
  {
   "cell_type": "markdown",
   "metadata": {},
   "source": [
    "## Getting Summary Statistics\n",
    "\n",
    "Pandas also allows us to easily compute individual summary statistics using built-in methods.  Next, we'll get some practice using these methods. \n",
    "\n",
    "In the cell below, compute the median value of the `star_rating` column."
   ]
  },
  {
   "cell_type": "code",
   "execution_count": 7,
   "metadata": {},
   "outputs": [
    {
     "data": {
      "text/plain": [
       "4.7"
      ]
     },
     "execution_count": 7,
     "metadata": {},
     "output_type": "execute_result"
    }
   ],
   "source": [
    "# Calculate the median of the star_rating column\n",
    "df['star_rating'].median()"
   ]
  },
  {
   "cell_type": "markdown",
   "metadata": {},
   "source": [
    "Next, get a count of the total number of unique values in `play_star_rating`."
   ]
  },
  {
   "cell_type": "code",
   "execution_count": 8,
   "metadata": {},
   "outputs": [
    {
     "data": {
      "text/plain": [
       "array([4. , 4.3, 3.6, 3.2, 3.7, 4.4, 4.1, 4.2, 3.8, 4.7, 3. , 5. , 2. ,\n",
       "       nan, 4.6, 2.7, 4.5, 1. , 3.5, 3.3, 3.9, 4.8, 2.9, 3.4, 4.9, 2.5,\n",
       "       2.2, 2.3, 2.8, 3.1, 2.1])"
      ]
     },
     "execution_count": 8,
     "metadata": {},
     "output_type": "execute_result"
    }
   ],
   "source": [
    "# Print the number of unique values in play_star_rating\n",
    "df['play_star_rating'].unique()"
   ]
  },
  {
   "cell_type": "markdown",
   "metadata": {},
   "source": [
    "Now, compute the standard deviation of the `list_price` column."
   ]
  },
  {
   "cell_type": "code",
   "execution_count": 12,
   "metadata": {},
   "outputs": [
    {
     "data": {
      "text/plain": [
       "91.9804293059243"
      ]
     },
     "execution_count": 12,
     "metadata": {},
     "output_type": "execute_result"
    }
   ],
   "source": [
    "# Calculate the standard deviation of the list_price column\n",
    "df['list_price'].std()"
   ]
  },
  {
   "cell_type": "markdown",
   "metadata": {},
   "source": [
    "If we bought every single lego set in this dataset, how many pieces would we have?  \n",
    "\n",
    "> **Note**: If you truly want to answer this accurately, and are up for the challenge, remove duplicate lego-set entries before summing the pieces. That is, many of the lego sets are listed multiple times in the dataset above, depending on the country where it is being sold and other unique parameters. If you're stuck, just practice calculating the total number of pieces in the dataset for now."
   ]
  },
  {
   "cell_type": "code",
   "execution_count": 14,
   "metadata": {},
   "outputs": [
    {
     "data": {
      "text/plain": [
       "array(['Bird Island Egg Heist', 'Piggy Plane Attack', 'Piggy Car Escape',\n",
       "       'United States Capitol Building', 'Solomon R. Guggenheim Museum®',\n",
       "       'Shanghai', 'New York City', 'Buckingham Palace', 'London',\n",
       "       'Chicago', 'Arc de Triomphe', 'The Eiffel Tower', 'Sydney',\n",
       "       'BOOST Creative Toolbox', 'Go Brick Me', 'Owen & Blue',\n",
       "       'Mr. Incredible & Frozone', 'Chewbacca™', 'Han Solo™',\n",
       "       'Iron Man MK50', 'Thanos', 'Star-Lord', 'Gamora', 'Finn',\n",
       "       \"Valentine's Bee\", 'Wonder Woman™', 'The Flash™', 'Kylo Ren™',\n",
       "       'Rey', 'Aquaman™', 'Cyborg™', 'Marty McFly & Doc Brown',\n",
       "       'Tactical Batman™ & Superman™', 'Easter Bunny', 'Lloyd',\n",
       "       'Master Wu', 'Captain Armando Salazar', 'Captain Phasma™',\n",
       "       'Batman™', 'Iron Man', 'Captain Jack Sparrow', 'The Hulk', 'Belle',\n",
       "       'Beast', 'The Joker™', 'Black Widow', 'Robin™', 'Batgirl™',\n",
       "       'Mountain River Heist', 'Cargo Train',\n",
       "       'High-speed Passenger Train', 'Jungle Air Drop Helicopter',\n",
       "       'Coast Guard Head Quarters', 'Jungle Exploration Site',\n",
       "       'Police Station', 'Mining Experts Site', 'Fire Station',\n",
       "       'Mountain Police Headquarters', 'Cargo Terminal',\n",
       "       'Bulldozer Break-in', 'Jungle Mobile Lab', 'Mountain Arrest',\n",
       "       'Heavy-duty Rescue Helicopter', 'Mobile Command Center',\n",
       "       'Bus Station', 'Mining Heavy Driller',\n",
       "       'People pack – Fun at the beach', 'High-speed Chase',\n",
       "       '4 x 4 Response Unit', 'Dirt Road Pursuit',\n",
       "       'Jungle Halftrack Mission', 'Fire Response Unit',\n",
       "       'Pickup & Caravan', 'Heavy Cargo Transport', 'Fire Ladder Truck',\n",
       "       'Monster Truck', 'Pizza Van', 'Flexible and Straight Tracks',\n",
       "       'ATV Race Team', 'Ambulance Helicopter', 'Forest Tractor',\n",
       "       'Tow Truck Trouble', 'Wild River Escape', 'Mining Power Splitter',\n",
       "       'Mountain Police Chase', 'Sea Rescue Plane',\n",
       "       'Jungle Cargo Helicopter', 'Switching Tracks',\n",
       "       'Straight & Crossroad Plates', 'T-Junction & Curved Road Plates',\n",
       "       'Airshow Jet', 'Jungle Starter Set', 'Road Repair Truck',\n",
       "       'Coast Guard Starter Set', 'Mountain Fugitives', 'Mining Team',\n",
       "       'Speed Record Car', 'Off-Road Chase', 'Jungle Buggy',\n",
       "       'Fun in the park - City People Pack',\n",
       "       'Volcano Heavy-lift Helicopter', 'Volcano Exploration Base',\n",
       "       'Fire Boat', 'Auto Transport Heist', 'Police Patrol Boat',\n",
       "       'Volcano Supply Helicopter', 'Volcano Crawler', 'Ferry',\n",
       "       'Sailboat Rescue', 'LEGO® City Advent Calendar',\n",
       "       'Airport Cargo Plane', 'Volcano Exploration Truck',\n",
       "       'Van & Caravan', 'Money Transporter', 'Police Starter Set',\n",
       "       'Stunt Truck', 'Buggy', 'Volcano Starter Set',\n",
       "       'Airport Starter Set', 'Fire Starter Set', 'ATV Arrest',\n",
       "       'LEGO® Large Creative Brick Box',\n",
       "       'LEGO® Medium Creative Brick Box', 'Creative Suitcase',\n",
       "       'LEGO® Creative Supplement', 'LEGO® Creative Bricks',\n",
       "       'Gray Baseplate', 'Blue Baseplate', 'Green Baseplate',\n",
       "       'Blue Creativity Box', 'Green Creativity Box',\n",
       "       'Red Creativity Box', 'Orange Creativity Box', 'Brick Separator',\n",
       "       'LEGO® Creative Supplement Bright', 'Sand Baseplate',\n",
       "       'Modular Family Villa', 'Turbo Track Racer', 'Modular Skate House',\n",
       "       'Sunshine Surfer Van', 'Modular Winter Vacation',\n",
       "       'Space Shuttle Explorer', 'Modular Modern Home',\n",
       "       'Modular Poolside Holiday', 'Robo Explorer', 'Rocket Rally Car',\n",
       "       'Daredevil Stunt Plane', 'Outback Adventures', 'Mighty Dinosaurs',\n",
       "       'Mythical Creatures', 'Green Cruiser', 'Air Blazer',\n",
       "       'Drone Explorer', 'Extreme Engines', 'Fast Car',\n",
       "       'Sunset Street Bike', 'Lighthouse Point', 'Island Adventures',\n",
       "       'Beach Hut', 'Beachside Vacation', 'Twin Spin Helicopter',\n",
       "       'Propeller Plane', 'Airshow Aces', 'Chopper Transporter',\n",
       "       'Cargo Heli', 'Taj Mahal', 'Downtown Diner',\n",
       "       'Winter Village Station', 'Assembly Square', 'Big Ben',\n",
       "       'Tower Bridge', 'Carousel', 'Ferris Wheel', 'Brick Bank',\n",
       "       'Parisian Restaurant', 'Detective’s Office', 'London Bus',\n",
       "       'Volkswagen T1 Camper Van', 'Volkswagen Beetle', 'MINI Cooper',\n",
       "       'Winter Holiday Train', 'The Joker™ Manor',\n",
       "       'Flying Fox: Batmobile Airlift Attack',\n",
       "       'LEGO® DIMENSIONS™ PLAYSTATION® 4 Starter Pack',\n",
       "       'The Bat-Space Shuttle', 'Knightcrawler Tunnel Attack',\n",
       "       'Harley Quinn™ Cannonball Attack', 'Lex Luthor™ Mech Takedown',\n",
       "       'Speed Force Freeze Pursuit',\n",
       "       'The Justice League™ Anniversary Party',\n",
       "       'Egghead™ Mech Food Fight', 'The Joker™ Batcave Attack',\n",
       "       'The Bat-Dune Buggy', 'Battle of Atlantis',\n",
       "       'Superman™ & Krypto™ Team-Up', 'Super Hero High School',\n",
       "       'Batgirl™ Batjet Chase', 'Harley Quinn™ to the rescue',\n",
       "       'Lashina™ Tank', 'Batman™ Classic TV Series – Batcave',\n",
       "       'Eclipso™ Dark Palace', 'Batman™: Killer Croc™ Sewer Smash',\n",
       "       'Batman™: Scarecrow™ Harvest of Fear',\n",
       "       'Lena Luthor™ Kryptomite™ Factory', 'Batgirl™ Secret Bunker',\n",
       "       'Kryptonite Interception', 'Wonder Woman™ Warrior Battle',\n",
       "       \"Batman™: Rescue from Ra's al Ghul™\", 'Green Lantern vs. Sinestro',\n",
       "       'Bumblebee™ Helicopter', 'Clash of the Heroes',\n",
       "       'Mighty Micros: Superman™ vs. Bizarro™',\n",
       "       'Mighty Micros: Batman™ vs. Killer Moth™',\n",
       "       'Mighty Micros: Wonder Woman™ vs. Doomsday™',\n",
       "       'Teen Titans Go!™ Fun Pack', 'The Powerpuff Girls™ Fun Pack',\n",
       "       'The Powerpuff Girls™ Team Pack', 'Beetlejuice™ Fun Pack',\n",
       "       'Teen Titans Go!™ Team Pack', 'Ghostbusters™ Story Pack',\n",
       "       'THE LEGO® BATMAN MOVIE Story Pack', 'Goonies™ Level Pack',\n",
       "       'Mission: Impossible™ Level Pack', 'DC Comics™ Team Pack',\n",
       "       'Midway Arcade™ Level Pack', 'Harry Potter™ Fun Pack',\n",
       "       'LEGO® City Fun Pack', 'Cyberman™ Fun Pack',\n",
       "       'LEGO® DIMENSIONS™ Gollum Fun Pack',\n",
       "       'LEGO® DIMENSIONS™ Eris Fun Pack', 'The Disney Castle',\n",
       "       'Silent Mary', \"Elsa's Magical Ice Palace\",\n",
       "       \"Cinderella's Dream Castle\", \"Ariel's Royal Celebration Boat\",\n",
       "       'Moana’s Ocean Voyage', \"Sleeping Beauty's Fairytale Castle\",\n",
       "       \"Cinderella's Enchanted Evening\", 'Thunder Hollow Crazy 8 Race',\n",
       "       'Ariel and the Magical Spell', \"Anna & Elsa's Frozen Playground\",\n",
       "       \"Smokey's Garage\", \"Willy's Butte Speed Training\",\n",
       "       \"Elsa's Market Adventure\", \"Mulan's Training Day\",\n",
       "       'Lightning McQueen Speed Launcher', \"Mater's Junkyard\",\n",
       "       'Castle Interior Kit', 'Mini-Doll Dress-Up Kit',\n",
       "       \"Guido and Luigi's Pit Stop\", 'Cruz Ramirez Race Simulator',\n",
       "       'Anna & Kristoff’s Sleigh Adventure', 'Moana’s Island Adventure',\n",
       "       'Palace Pets Royal Castle', \"Anna's Snow Adventure\",\n",
       "       \"Petite's Royal Stable\", \"Berry's Kitchen\", 'T. rex Tower',\n",
       "       'Gentle Giants Petting Zoo', 'Deluxe Train Set',\n",
       "       'Around the World', 'Big Fair', 'Farm Adventures', 'Town Square',\n",
       "       'Big Construction Site', 'Large Playground Brick Box',\n",
       "       'My First Train Set', 'Family House', 'Minnie Mouse Bow-tique',\n",
       "       'Fun Family Fair', \"Flo's Café\", 'Mickey & Friends Beach House',\n",
       "       'Pizzeria', 'Batwing Adventure', 'Piston Cup Race',\n",
       "       \"Santa's Winter Holiday\", 'Spider-Man & Hulk Adventures',\n",
       "       'My First Animal Brick Box', 'Rapunzel´s Tower',\n",
       "       'Farm Pony Stable', 'Fun Creations',\n",
       "       'LEGO® DUPLO® All-in-One-Box-of-Fun', 'Fire Truck',\n",
       "       'Mickey & Minnie Birthday Parade', 'Shooting Gallery',\n",
       "       'My First Carousel', 'Airport', 'Preschool', 'Number Train',\n",
       "       'My First Cars and Trucks', 'Truck & Tracked Excavator',\n",
       "       'Mater´s Shed', \"Farmers' Market\", 'Belle´s Tea Party',\n",
       "       'My First Emotions', 'Mickey Racer', 'Birthday Picnic',\n",
       "       'Police Patrol', 'My First Celebration',\n",
       "       'LEGO® DUPLO® Green Baseplate', 'Family Pets', 'Farm Animals',\n",
       "       'My First Puzzle Pets', 'My First Bus', 'My First Ladybug',\n",
       "       'My First Race Car', 'Spider-Man Spider Truck Adventure',\n",
       "       'Spider-Man Web-Bike Workshop',\n",
       "       'LEGO® DUPLO® Creative Building Basket', 'Jungle',\n",
       "       'Cinderella´s Magical Castle', 'Doc McStuffins™ Backyard Clinic',\n",
       "       'Sofia the First Magical Carriage', 'LEGO® DUPLO® Creative Chest',\n",
       "       'Doc McStuffins´ Pet Vet Care', 'My First Playhouse',\n",
       "       'My First Truck', 'My First Tractor', 'Baby Animals',\n",
       "       'Little Plane', 'My First Caterpillar', 'My First Plane',\n",
       "       'My First Bird', 'My First Cakes',\n",
       "       \"Breakout from the Goblin King's Fortress\",\n",
       "       \"Noctura's Tower & the Earth Fox Rescue\",\n",
       "       \"Rosalyn's Healing Hideout\", 'Aira & the Song of the Wind Dragon',\n",
       "       \"The Goblin King's Evil Dragon\", 'Azari & the Fire Lion Capture',\n",
       "       'Naida & the Water Turtle Ambush',\n",
       "       'Azari & the Goblin Forest Escape',\n",
       "       'Emily Jones & the Eagle Getaway',\n",
       "       'Magic Rescue from the Goblin Village',\n",
       "       \"Naida's Gondola & the Goblin Thief\",\n",
       "       'The Capture of Sophie Jones', 'Heartlake Hospital',\n",
       "       \"Stephanie's House\", 'Sunshine Catamaran', 'Friendship House',\n",
       "       'Snow Resort Ski Lift', \"Mia's Camper Van\",\n",
       "       'Heartlake Summer Pool', \"Stephanie's Sports Arena\",\n",
       "       'Heartlake Frozen Yogurt Shop', 'Snow Resort Chalet',\n",
       "       'Heartlake City Playground', \"Emma's Art Café\", \"Mia's Tree House\",\n",
       "       'Snow Resort Ice Rink', \"Andrea's Speedboat Transporter\",\n",
       "       'Heartlake Pizzeria', 'Snow Resort Hot Chocolate Van',\n",
       "       \"Andrea's Park Performance\", \"Olivia's Mission Vehicle\",\n",
       "       \"Emma's Art Stand\", \"Mia's Organic Food Market\",\n",
       "       'Heartlake Surf Shop', \"Stephanie's Soccer Practice\",\n",
       "       \"Olivia's Deluxe Bedroom\", \"Emma's Pet Party\",\n",
       "       \"Stephanie's Bedroom\", \"Mia's Bedroom\",\n",
       "       'LEGO® Friends Buildable Hedgehog Storage',\n",
       "       'Heartlake Puppy Daycare', 'Heartlake Party Shop',\n",
       "       'Amusement Park Space Ride', 'Puppy Playground',\n",
       "       'Amusement Park Roller Coaster', 'Heartlake Performance School',\n",
       "       'Heartlake Riding Club', 'Heartlake Sports Center',\n",
       "       'LEGO® Friends Advent Calendar', 'Puppy Championship',\n",
       "       'Heartlake Gift Delivery', 'Puppy Parade', 'Amusement Park Arcade',\n",
       "       \"Mia's Beach Scooter\", \"Andrea's Musical Duet\",\n",
       "       \"Foal's Washing Station\", 'Puppy Pampering',\n",
       "       'Firehouse Headquarters', 'Ecto-1 & 2', 'Ship in a Bottle',\n",
       "       'TRON: Legacy', 'Old Fishing Store', 'LEGO® NASA Apollo Saturn V',\n",
       "       'Adventure Time™', 'Women of NASA', 'Caterham Seven 620R',\n",
       "       'T. rex Breakout', 'The Great Home Escape', 'Raptor Rescue Truck',\n",
       "       'Underminer Bank Heist', 'Pteranodon Escape',\n",
       "       \"Elastigirl's Rooftop Pursuit\", 'Florida 500 Final Race',\n",
       "       'Demolition Site', \"Mia's Farm Suitcase\",\n",
       "       'Spider-Man vs. Scorpion Street Showdown', 'Shark Attack',\n",
       "       'Fire Patrol Suitcase', \"Zane's Ninja Boat Pursuit\",\n",
       "       \"Snow White's Forest Cottage\", 'Batman™ vs. Mr. Freeze™',\n",
       "       \"Andrea & Stephanie's Beach Holiday\", 'Spider-Man™ Hideout',\n",
       "       'Lost Temple', 'Police Truck Chase', 'Snake Showdown',\n",
       "       \"Stephanie's Horse Carriage\", 'Ariel’s Dolphin Carriage',\n",
       "       'Police Helicopter Chase', 'Indoraptor Rampage at Lockwood Estate',\n",
       "       'Carnotaurus Gyrosphere Escape', 'T. rex Transport',\n",
       "       'Jurassic Park Velociraptor Chase', 'Dilophosaurus Outpost Attack',\n",
       "       \"Blue's Helicopter Pursuit\", 'Stygimoloch Breakout',\n",
       "       'Pteranodon Chase', 'The Hulkbuster: Ultron Edition',\n",
       "       'Sanctum Sanctorum Showdown', 'Thanos: Ultimate Battle',\n",
       "       'Corvus Glaive Thresher Attack', 'The Hulkbuster Smash-Up',\n",
       "       \"Thor's Weapon Quest\", 'Outrider Dropship Attack',\n",
       "       'Thor vs. Hulk: Arena Clash', 'Hulk vs. Red Hulk',\n",
       "       'The Ultimate Battle for Asgard', 'Beware the Vulture',\n",
       "       'Royal Talon Fighter Attack', 'Iron Man: Detroit Steel Strikes',\n",
       "       'Rhino Face-Off by the Mine', 'ATM Heist Battle',\n",
       "       'Captain America Jet Pursuit', 'Mighty Micros: Thor vs. Loki',\n",
       "       'Mighty Micros: Star-Lord vs. Nebula',\n",
       "       'Mighty Micros: Scarlet Spider vs. Sandman',\n",
       "       'Mighty Micros: Spider-Man vs. Scorpion', \"Ayesha's Revenge\",\n",
       "       'Tanker Truck Takedown', \"Doctor Strange's Sanctum Sanctorum\",\n",
       "       'Ravager Attack', 'Iron Man vs. Ultron',\n",
       "       'Mighty Micros: Iron Man vs. Thanos',\n",
       "       'Mighty Micros: Wolverine vs. Magneto', 'LEGO® MINDSTORMS® EV3',\n",
       "       'EV3 Intelligent Brick', 'EV3 Rechargeable DC Battery',\n",
       "       'EV3 Color Sensor', 'EV3 Gyro Sensor', 'EV3 Infrared Sensor',\n",
       "       'EV3 Infrared Beacon', 'Transformer 10V DC',\n",
       "       'EV3 Large Servo Motor', 'EV3 Medium Servo Motor',\n",
       "       'EV3 Touch Sensor', 'EV3 Cable Pack', 'EV3 Ultrasonic Sensor',\n",
       "       'The Mountain Cave', 'The Ocean Monument', 'The Waterfall Base',\n",
       "       'The Crafting Box 2.0', 'The Farm Cottage', 'The Nether Portal',\n",
       "       'The Polar Igloo', 'The Nether Railway', 'The Chicken Coop',\n",
       "       'The Zombie Cave', 'The Iron Golem', 'The Mushroom Island',\n",
       "       'The Nether Fight', 'The Melon Farm', 'The Nether Fortress',\n",
       "       'The Jungle Tree House', 'The End Portal', 'The Desert Outpost',\n",
       "       'The Wither', 'The Dungeon', 'Series 18: Party',\n",
       "       'THE LEGO® BATMAN MOVIE Series 2', 'THE LEGO® NINJAGO® MOVIE™',\n",
       "       'Series 17', 'Knighton Castle', \"Axl's Rolling Arsenal\",\n",
       "       \"Aaron's X-bow\", 'Tech Wizard Showdown', 'Berserker Bomber',\n",
       "       'Twinfector', \"Lance's Hover Jouster\", \"Aaron's Stone Destroyer\",\n",
       "       'Battle Suit Axl', \"King's Guard Artillery\", 'The Fortrex',\n",
       "       \"Jestro's Headquarters\", \"Axl's Tower Carrier\",\n",
       "       \"Aaron's Rock Climber\", \"Axl's Rumble Maker\",\n",
       "       \"General Magmar's Siege Machine of Doom\", 'Lance vs. lightning',\n",
       "       'The Three Brothers', \"Ruina's Lock & Roller\",\n",
       "       \"Lance's Twin Jouster\", 'Moltor’s Lava Smasher',\n",
       "       \"Macy's Bot Drop Dragon\", 'Battle Suit Clay', 'Battle Suit Lance',\n",
       "       'Battle Suit Aaron', 'Ultimate Flama', 'Ultimate Lance',\n",
       "       'Battle Suit Macy', 'Ultimate Axl', 'Ultimate General Magmar',\n",
       "       'LEGO® NEXO KNIGHTS™ Monsters Army-Building Set',\n",
       "       'Combo NEXO Powers Wave 1', \"Destiny's Bounty\", 'NINJAGO® City',\n",
       "       'Temple of The Ultimate Ultimate Weapon', 'Quake Mech',\n",
       "       'garmadon, Garmadon, GARMADON!', 'Ice Tank',\n",
       "       'Temple of Resurrection', 'Fire Mech', 'Garma Mecha Man',\n",
       "       'Lightning Jet', 'Killow vs. Samurai X', \"Garmadon's Volcano Lair\",\n",
       "       'Green Ninja Mech Dragon', 'S.O.G. Headquarters',\n",
       "       'Ninja Nightcrawler', 'Street Race of Snake Jaguar',\n",
       "       'Water Strider', 'Master Falls', 'Manta Ray Bomber',\n",
       "       'Flying Jelly Sub', 'Katana V11', 'Piranha Attack',\n",
       "       'NINJAGO® City Chase', 'Lloyd - Spinjitzu Master',\n",
       "       'Kai - Spinjitzu Master', 'Jay - Spinjitzu Master',\n",
       "       'Cole - Spinjitzu Master', 'Spinjitzu Training',\n",
       "       'Nya - Spinjitzu Master', 'Zane - Spinjitzu Master',\n",
       "       'Misfortune’s Keep', 'Salvage M.E.C.', 'Vermillion Invader',\n",
       "       \"Destiny's Shadow\", 'Raid Zeppelin', 'Sky Shark',\n",
       "       'The Vermillion Attack', 'Connections Kit',\n",
       "       'Window Exploration Bag', 'Starter Kit',\n",
       "       'Identity and Landscape Kit', 'Ferrari Ultimate Garage',\n",
       "       'Porsche 911 RSR and 911 Turbo 3.0', '1968 Ford Mustang Fastback',\n",
       "       'Ferrari 488 GT3 “Scuderia Corsa”', 'Ford Fiesta M-Sport WRC',\n",
       "       'MERCEDES AMG PETRONAS Formula One™ Team',\n",
       "       '2016 Ford GT & 1966 Ford GT40', 'Porsche 919 Hybrid',\n",
       "       'Mercedes-AMG GT3', 'McLaren 720S', 'Scuderia Ferrari SF16-H',\n",
       "       'Bugatti Chiron', 'Ford Mustang GT', 'Audi R18 e-tron quattro',\n",
       "       'Kessel Run Millennium Falcon™', 'Imperial TIE Fighter™',\n",
       "       \"Moloch's Landspeeder™\", \"Yoda's Hut\", \"Han Solo's Landspeeder™\",\n",
       "       'Darth Maul™', 'Range Trooper™',\n",
       "       'Jedi™ and Clone Troopers™ Battle Pack',\n",
       "       'Imperial Patrol Battle Pack', 'Death Star™', 'Slave I',\n",
       "       'First Order Star Destroyer™', 'First Order Heavy Assault Walker™',\n",
       "       'Resistance Bomber', 'BB-8™', \"Krennic's Imperial Shuttle\",\n",
       "       'The Arrowhead', 'Defense of Crait™', \"Kylo Ren's TIE Fighter™\",\n",
       "       \"Poe's X-Wing Fighter™\", 'Rebel U-Wing Fighter™',\n",
       "       'Rathtar™ Escape', 'Tracker I', 'Y-Wing Starfighter™',\n",
       "       'Scout Trooper™ & Speeder Bike™', 'Jakku Quadjumper™',\n",
       "       'First Order Heavy Scout Walker™', 'Mos Eisley Cantina™',\n",
       "       'First Order AT-ST™', 'Ahch-To Island™ Training', 'Sandspeeder™',\n",
       "       'Desert Skiff Escape', \"General Grievous' Combat Speeder\",\n",
       "       'Resistance Transport Pod™', 'Darth Vader™ Transformation',\n",
       "       \"Yoda's Jedi Starfighter™\", 'Republic Fighter Tank™',\n",
       "       'Duel on Naboo™', 'Elite Praetorian Guard',\n",
       "       'Stormtrooper™ Commander',\n",
       "       'A-Wing™ vs. TIE Silencer™ Microfighters',\n",
       "       'Ski Speeder™ vs. First Order Walker™ Microfighters',\n",
       "       'Elite TIE Fighter Pilot™', 'Tatooine™ Battle Pack',\n",
       "       'First Order Specialists Battle Pack',\n",
       "       'Bounty Hunter Speeder Bike™ Battle Pack',\n",
       "       'First Order Transport Speeder Battle Pack',\n",
       "       'Millennium Falcon™ Microfighter',\n",
       "       'First Order TIE Fighter™ Microfighter', 'U-Wing™ Microfighter',\n",
       "       'TIE Striker™ Microfighter', 'Snowspeeder™',\n",
       "       'Jedi Starfighter™ With Hyperdrive', 'Darth Vader™', 'Boba Fett™',\n",
       "       \"Luke's Landspeeder™\", 'Millennium Falcon™', 'Sergeant Jyn Erso™',\n",
       "       'Chirrut Îmwe™', 'Baze Malbus™', 'Imperial Trooper Battle Pack',\n",
       "       'TIE Fighter™', 'Kylo Ren’s Command Shuttle™', 'TIE Striker™',\n",
       "       'Battle on Takodana™', 'Battle on Scarif', 'StarScavenger™',\n",
       "       'Encounter on Jakku™', 'LEGO® Star Wars™ Advent Calendar',\n",
       "       'The Phantom', 'K-2SO™', 'Obi-Wan Kenobi™',\n",
       "       'Imperial Death Trooper™', \"Rey's Speeder™\",\n",
       "       'Scarif Stormtrooper™', 'Jango Fett™', 'First Order Stormtrooper™',\n",
       "       'Rebel Trooper Battle Pack', 'Resistance Trooper Battle Pack',\n",
       "       'First Order Battle Pack', 'Y-Wing™ Microfighter',\n",
       "       'Resistance X-Wing Fighter™', 'TIE Advanced Prototype™',\n",
       "       \"Krennic's Imperial Shuttle™ Microfighter\",\n",
       "       'First Order Snowspeeder™', '6x6 All Terrain Tow Truck',\n",
       "       'Porsche 911 GT3 RS', 'Bucket Wheel Excavator', 'Mack Anthem',\n",
       "       'Extreme Adventure', 'Air Race Jet', 'Ocean Explorer', 'Rally Car',\n",
       "       'RC Tracked Racer', 'Airport Rescue Vehicle', 'Hovercraft',\n",
       "       'BMW R 1200 GS Adventure', 'Container Yard', 'First Responder',\n",
       "       'Racing Yacht', 'Roadwork Crew', 'LEGO® Power Functions Motor Set',\n",
       "       'WHACK!', 'BASH!', 'Ultralight Helicopter', 'Stunt Bike',\n",
       "       'Dozer Compactor', 'Hook Loader', 'CLAAS XERION 5000 TRAC VC',\n",
       "       'Heavy Lift Helicopter', '24 Hours Race Car', 'Volvo EW160E',\n",
       "       'Formula Off-Roader', 'Mine Loader', 'Street Motorcycle',\n",
       "       'Telehandler', 'Compact Tracked Loader', 'Record Breaker',\n",
       "       'Hydroplane Racer', 'Cherry Picker', 'Display Team Jet',\n",
       "       'Arkham Asylum', 'The Ultimate Batmobile', 'Batcave Break-in',\n",
       "       'The Batwing', 'The Batmobile', 'The Joker™ Notorious Lowrider',\n",
       "       'Bane™ Toxic Truck Attack', 'The Penguin™ Arctic Roller',\n",
       "       'The Riddler™ Riddle Racer', 'Scarecrow™ Special Delivery',\n",
       "       'Mr. Freeze™ Ice Attack', 'Scarecrow™ Fearful Face-off',\n",
       "       'The Joker™ Balloon Escape',\n",
       "       'THE LEGO® BATMAN MOVIE Batman™ Minifigure Collector Frame',\n",
       "       'The Scuttler', 'Killer Croc™ Tail-Gator',\n",
       "       'Two-Face™ Double Demolition', 'Clayface™ Splat Attack',\n",
       "       'Catwoman™ Catcycle Chase', 'Creative Box', 'Creative Builder Box',\n",
       "       'Bricks on a Roll', 'Vacation Getaways', 'Winter Toy Shop',\n",
       "       'The Ghostbusters™ Level Pack', 'Adventure Time™ Level Pack',\n",
       "       'Harry Potter™ Team Pack', 'Adventure Time™ Team Pack',\n",
       "       'Excalibur Batman™ Fun Pack', 'A-Team™ Fun Pack',\n",
       "       'Sensei Wu Fun Pack', 'Bane™ Fun Pack', 'Knight Rider™ Fun Pack',\n",
       "       'LEGO® DUPLO® Creative Box', 'My First Bricks',\n",
       "       'Green LEGO® DUPLO® Baseplate', 'Touch Sensor',\n",
       "       'Temple of Airjitzu', 'A-Wing Starfighter™',\n",
       "       'Power Functions Motor Set', 'Starter Pack PLAYSTATION® 4',\n",
       "       'Zane Fun Pack', 'Portal® 2 Level Pack', 'Wicked Witch™ Fun Pack',\n",
       "       \"Vaiana's Ocean Voyage\", 'Slave I™', \"Moana's Ocean Voyage\",\n",
       "       'My First Vehicles'], dtype=object)"
      ]
     },
     "execution_count": 14,
     "metadata": {},
     "output_type": "execute_result"
    }
   ],
   "source": [
    "df['set_name'].unique()"
   ]
  },
  {
   "cell_type": "code",
   "execution_count": 16,
   "metadata": {},
   "outputs": [
    {
     "data": {
      "text/plain": [
       "6049650.0"
      ]
     },
     "execution_count": 16,
     "metadata": {},
     "output_type": "execute_result"
    }
   ],
   "source": [
    "# Total number of pieces across all unique Lego sets\n",
    "df['piece_count'].sum()"
   ]
  },
  {
   "cell_type": "markdown",
   "metadata": {},
   "source": [
    "Now, let's try getting the value for the 90% quantile for all numerical columns.  Do this in the cell below."
   ]
  },
  {
   "cell_type": "code",
   "execution_count": 17,
   "metadata": {},
   "outputs": [
    {
     "data": {
      "text/plain": [
       "list_price            136.2971\n",
       "num_reviews            38.0000\n",
       "piece_count          1077.0000\n",
       "play_star_rating        5.0000\n",
       "prod_id             75531.0000\n",
       "star_rating             5.0000\n",
       "val_star_rating         5.0000\n",
       "Name: 0.9, dtype: float64"
      ]
     },
     "execution_count": 17,
     "metadata": {},
     "output_type": "execute_result"
    }
   ],
   "source": [
    "# Get the 90% quantile for all numerical columns\n",
    "df.quantile(.9)"
   ]
  },
  {
   "cell_type": "markdown",
   "metadata": {},
   "source": [
    "## Getting Summary Statistics on Categorical Data\n",
    "\n",
    "For obvious reasons, most of the methods we've used so far only work with numerical data -- there's no way to calculate the standard deviation of a column containing string values. However, there are some things that we can discover about columns containing categorical data. \n",
    "\n",
    "In the cell below, print the unique values contained within the `review_difficulty` column. "
   ]
  },
  {
   "cell_type": "code",
   "execution_count": 19,
   "metadata": {},
   "outputs": [
    {
     "data": {
      "text/plain": [
       "array(['Average', 'Easy', 'Challenging', 'Very Easy', nan,\n",
       "       'Very Challenging'], dtype=object)"
      ]
     },
     "execution_count": 19,
     "metadata": {},
     "output_type": "execute_result"
    }
   ],
   "source": [
    "df['review_difficulty'].unique()\n",
    "# Print the unique values in the review_difficulty column"
   ]
  },
  {
   "cell_type": "markdown",
   "metadata": {},
   "source": [
    "Now, let's get the `value_counts()` for this column, to see how common each is. "
   ]
  },
  {
   "cell_type": "code",
   "execution_count": 20,
   "metadata": {},
   "outputs": [
    {
     "data": {
      "text/plain": [
       "Easy                4236\n",
       "Average             3765\n",
       "Very Easy           1139\n",
       "Challenging         1058\n",
       "Very Challenging       8\n",
       "Name: review_difficulty, dtype: int64"
      ]
     },
     "execution_count": 20,
     "metadata": {},
     "output_type": "execute_result"
    }
   ],
   "source": [
    "# Get the value_counts() of the review_difficulty column\n",
    "df['review_difficulty'].value_counts()"
   ]
  },
  {
   "cell_type": "markdown",
   "metadata": {},
   "source": [
    "As you can see, these provide us quick and easy ways to get information on columns containing categorical information.  \n",
    "\n",
    "\n",
    "## Using `.applymap()`\n",
    "\n",
    "When working with pandas DataFrames, we can quickly compute functions on the data contained by using the `.applymap()` method and passing in a lambda function. \n",
    "\n",
    "For instance, we can use `applymap()` to return a version of the DataFrame where every value has been converted to a string.\n",
    "\n",
    "In the cell below:\n",
    "\n",
    "* Call the DataFrame's `.applymap()` method and pass in `lambda x: str(x)`  \n",
    "* Call the new `string_df` object's `.info()` method to confirm that everything has been cast to a string"
   ]
  },
  {
   "cell_type": "code",
   "execution_count": 22,
   "metadata": {},
   "outputs": [
    {
     "name": "stdout",
     "output_type": "stream",
     "text": [
      "<class 'pandas.core.frame.DataFrame'>\n",
      "RangeIndex: 12261 entries, 0 to 12260\n",
      "Data columns (total 14 columns):\n",
      "ages                 12261 non-null object\n",
      "list_price           12261 non-null object\n",
      "num_reviews          12261 non-null object\n",
      "piece_count          12261 non-null object\n",
      "play_star_rating     12261 non-null object\n",
      "prod_desc            12261 non-null object\n",
      "prod_id              12261 non-null object\n",
      "prod_long_desc       12261 non-null object\n",
      "review_difficulty    12261 non-null object\n",
      "set_name             12261 non-null object\n",
      "star_rating          12261 non-null object\n",
      "theme_name           12261 non-null object\n",
      "val_star_rating      12261 non-null object\n",
      "country              12261 non-null object\n",
      "dtypes: object(14)\n",
      "memory usage: 1.3+ MB\n"
     ]
    }
   ],
   "source": [
    "# Call the .applymap() method\n",
    "string_df = df.applymap(lambda x: str(x))\n",
    "\n",
    "# Call the .info() method\n",
    "string_df.info()"
   ]
  },
  {
   "cell_type": "markdown",
   "metadata": {},
   "source": [
    "Note that everything -- even the `NaN` values, have been cast to a string in the example above. \n",
    "\n",
    "Note that for Pandas Series objects (such as a single column in a DataFrame), we can do the same thing using the `.apply()` method.  \n",
    "\n",
    "This is just one example of how we can quickly compute custom functions on our DataFrame -- this will become especially useful when we learn how to **_normalize_** our datasets in a later section!\n",
    "\n",
    "## Summary\n",
    "\n",
    "In this lab, we learned how to:\n",
    "\n",
    "* Use the `df.describe()` and `df.info()` summary statistics methods \n",
    "* Use built-in Pandas methods for calculating summary statistics \n",
    "* Apply a function to every element in a DataFrame"
   ]
  }
 ],
 "metadata": {
  "kernelspec": {
   "display_name": "Python 3",
   "language": "python",
   "name": "python3"
  },
  "language_info": {
   "codemirror_mode": {
    "name": "ipython",
    "version": 3
   },
   "file_extension": ".py",
   "mimetype": "text/x-python",
   "name": "python",
   "nbconvert_exporter": "python",
   "pygments_lexer": "ipython3",
   "version": "3.6.9"
  }
 },
 "nbformat": 4,
 "nbformat_minor": 2
}
